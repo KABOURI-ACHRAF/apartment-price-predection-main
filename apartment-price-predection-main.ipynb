{
 "cells": [
  {
   "cell_type": "markdown",
   "metadata": {
    "colab_type": "text",
    "id": "view-in-github"
   },
   "source": [
    "<a href=\"https://colab.research.google.com/github/Azrarag/apartment-price-predection/blob/main/Untitled2.ipynb\" target=\"_parent\"><img src=\"https://colab.research.google.com/assets/colab-badge.svg\" alt=\"Open In Colab\"/></a>"
   ]
  },
  {
   "cell_type": "code",
   "execution_count": 3,
   "metadata": {
    "id": "HqTREenkVh_H"
   },
   "outputs": [],
   "source": [
    "import random\n",
    "from math import *\n",
    "import numpy as np\n",
    "import pandas as pd \n",
    "import seaborn as sns\n",
    "import matplotlib.pyplot as plt"
   ]
  },
  {
   "cell_type": "code",
   "execution_count": 4,
   "metadata": {
    "id": "fPT0HuunV3Qc"
   },
   "outputs": [],
   "source": [
    "def MatrixA(xi,m):\n",
    "    n=len(xi)-1\n",
    "    A=np.zeros((n+1,m+1))\n",
    "    for i in range(n+1):\n",
    "        for j in range(m+1):\n",
    "            A[i,j]=xi[i]**j\n",
    "    return A"
   ]
  },
  {
   "cell_type": "code",
   "execution_count": 5,
   "metadata": {
    "id": "bsZG0QrEV49_"
   },
   "outputs": [],
   "source": [
    "def horner(p,x):\n",
    "    n=len(p)-1\n",
    "    b=p[n]\n",
    "    \n",
    "    for k in range(n-1,-1,-1):\n",
    "        b=p[k]+b*x\n",
    "    return b"
   ]
  },
  {
   "cell_type": "code",
   "execution_count": 6,
   "metadata": {
    "id": "ejfxlRxXWB9A"
   },
   "outputs": [],
   "source": [
    "def coeffRegression(xi,yi,m):\n",
    "    #remplissage de la matrice A\n",
    "    A=MatrixA(xi,m)\n",
    "    b=yi\n",
    "   # At=np.transpose(A)\n",
    "    At=A.T\n",
    "    B=At@A\n",
    "    #B=np.matmul(At,b)\n",
    "    C=At@b\n",
    "    w=np.linalg.solve(B,C)\n",
    "    #a=la.solve(B,C)\n",
    "    #y=horner(a,x)\n",
    "    return w"
   ]
  },
  {
   "cell_type": "code",
   "execution_count": 7,
   "metadata": {
    "id": "pP6UTmp9WFHk"
   },
   "outputs": [],
   "source": [
    "def polyRegression(w,x):\n",
    "    y=horner(w,x)\n",
    "    return y"
   ]
  },
  {
   "cell_type": "code",
   "execution_count": 8,
   "metadata": {
    "colab": {
     "base_uri": "https://localhost:8080/"
    },
    "id": "IbAT7yFDYyWt",
    "outputId": "6460860c-37d7-4d76-a668-bd0c05d05359"
   },
   "outputs": [
    {
     "name": "stdout",
     "output_type": "stream",
     "text": [
      "19 19 19 19 19\n"
     ]
    }
   ],
   "source": [
    "#les parisiens ont noté les arondissements, on a le dictionnaire suivant:\n",
    "#NoteArrondissement={\"Arrondissement\":Note sur 100,....,\"Arrondissementn\":Note sur 100}\n",
    "\n",
    "NoteArrondissement={\"6\":76,\"12\":73.3,\"15\":59.1,\"16\":76,\"17\":65.3,\"19\":59.8}\n",
    "\n",
    "#NoteArrondissement=np.array[[6,76],[12,73.3],[15,58.1],[16,76],[17,65.3],[19,59.8]]\n",
    "\n",
    "surface=[67,26,118,163,87,14,45,54,75,26,38,85,73,66,64,113,18,23,8]\n",
    "\n",
    "Nbpieces=[3,1,3,5,4,1,2,3,4,2,2,3,3,3,3,4,1,1,1]\n",
    "\n",
    "arrondissement=[17,17,12,6,19,12,15,19,16,12,12,16,17,15,15,16,12,15,12]\n",
    "\n",
    "etage=[5,5,3,4,5,5,1,3,4,4,7,8,2,1,2,8,3,3,7]\n",
    "\n",
    "prix=[770,321,1300,2890,678,240,460,480,965,315,430,1038,815,730,748,1595,219,295,99]\n",
    "\n",
    "print(len(surface),len(Nbpieces),len(arrondissement),len(etage),len(prix))\n",
    "\n",
    "surface1=[34,53,18,59,40,66,36,78,80]\n",
    "Nbpiece1=[2,2,1,3,2,3,1,4,4]\n",
    "arrondissement1=[15,15,17,19,17,12,15,16,15]\n",
    "etage1=[7,1,5,3,3,4,6,3,10]\n",
    "prix1=[330,737,147,570,420,675,417,1090,935]\n",
    "\n",
    "surface.extend(surface1)\n",
    "Nbpieces.extend(Nbpiece1)\n",
    "arrondissement.extend(arrondissement1)\n",
    "etage.extend(etage1)\n",
    "prix.extend(prix1)"
   ]
  },
  {
   "cell_type": "code",
   "execution_count": 9,
   "metadata": {
    "colab": {
     "base_uri": "https://localhost:8080/",
     "height": 927
    },
    "id": "LiFdcqurZjhh",
    "outputId": "27e28ef1-34e8-4055-ec00-5aa677203648"
   },
   "outputs": [
    {
     "data": {
      "text/html": [
       "<div>\n",
       "<style scoped>\n",
       "    .dataframe tbody tr th:only-of-type {\n",
       "        vertical-align: middle;\n",
       "    }\n",
       "\n",
       "    .dataframe tbody tr th {\n",
       "        vertical-align: top;\n",
       "    }\n",
       "\n",
       "    .dataframe thead th {\n",
       "        text-align: right;\n",
       "    }\n",
       "</style>\n",
       "<table border=\"1\" class=\"dataframe\">\n",
       "  <thead>\n",
       "    <tr style=\"text-align: right;\">\n",
       "      <th></th>\n",
       "      <th>Surface (en m2)</th>\n",
       "      <th>Nbpieces</th>\n",
       "      <th>Arrondissement</th>\n",
       "      <th>Etage</th>\n",
       "      <th>Prix en (k$)</th>\n",
       "    </tr>\n",
       "  </thead>\n",
       "  <tbody>\n",
       "    <tr>\n",
       "      <th>0</th>\n",
       "      <td>67</td>\n",
       "      <td>3</td>\n",
       "      <td>17</td>\n",
       "      <td>5</td>\n",
       "      <td>770</td>\n",
       "    </tr>\n",
       "    <tr>\n",
       "      <th>1</th>\n",
       "      <td>26</td>\n",
       "      <td>1</td>\n",
       "      <td>17</td>\n",
       "      <td>5</td>\n",
       "      <td>321</td>\n",
       "    </tr>\n",
       "    <tr>\n",
       "      <th>2</th>\n",
       "      <td>118</td>\n",
       "      <td>3</td>\n",
       "      <td>12</td>\n",
       "      <td>3</td>\n",
       "      <td>1300</td>\n",
       "    </tr>\n",
       "    <tr>\n",
       "      <th>3</th>\n",
       "      <td>163</td>\n",
       "      <td>5</td>\n",
       "      <td>6</td>\n",
       "      <td>4</td>\n",
       "      <td>2890</td>\n",
       "    </tr>\n",
       "    <tr>\n",
       "      <th>4</th>\n",
       "      <td>87</td>\n",
       "      <td>4</td>\n",
       "      <td>19</td>\n",
       "      <td>5</td>\n",
       "      <td>678</td>\n",
       "    </tr>\n",
       "    <tr>\n",
       "      <th>5</th>\n",
       "      <td>14</td>\n",
       "      <td>1</td>\n",
       "      <td>12</td>\n",
       "      <td>5</td>\n",
       "      <td>240</td>\n",
       "    </tr>\n",
       "    <tr>\n",
       "      <th>6</th>\n",
       "      <td>45</td>\n",
       "      <td>2</td>\n",
       "      <td>15</td>\n",
       "      <td>1</td>\n",
       "      <td>460</td>\n",
       "    </tr>\n",
       "    <tr>\n",
       "      <th>7</th>\n",
       "      <td>54</td>\n",
       "      <td>3</td>\n",
       "      <td>19</td>\n",
       "      <td>3</td>\n",
       "      <td>480</td>\n",
       "    </tr>\n",
       "    <tr>\n",
       "      <th>8</th>\n",
       "      <td>75</td>\n",
       "      <td>4</td>\n",
       "      <td>16</td>\n",
       "      <td>4</td>\n",
       "      <td>965</td>\n",
       "    </tr>\n",
       "    <tr>\n",
       "      <th>9</th>\n",
       "      <td>26</td>\n",
       "      <td>2</td>\n",
       "      <td>12</td>\n",
       "      <td>4</td>\n",
       "      <td>315</td>\n",
       "    </tr>\n",
       "    <tr>\n",
       "      <th>10</th>\n",
       "      <td>38</td>\n",
       "      <td>2</td>\n",
       "      <td>12</td>\n",
       "      <td>7</td>\n",
       "      <td>430</td>\n",
       "    </tr>\n",
       "    <tr>\n",
       "      <th>11</th>\n",
       "      <td>85</td>\n",
       "      <td>3</td>\n",
       "      <td>16</td>\n",
       "      <td>8</td>\n",
       "      <td>1038</td>\n",
       "    </tr>\n",
       "    <tr>\n",
       "      <th>12</th>\n",
       "      <td>73</td>\n",
       "      <td>3</td>\n",
       "      <td>17</td>\n",
       "      <td>2</td>\n",
       "      <td>815</td>\n",
       "    </tr>\n",
       "    <tr>\n",
       "      <th>13</th>\n",
       "      <td>66</td>\n",
       "      <td>3</td>\n",
       "      <td>15</td>\n",
       "      <td>1</td>\n",
       "      <td>730</td>\n",
       "    </tr>\n",
       "    <tr>\n",
       "      <th>14</th>\n",
       "      <td>64</td>\n",
       "      <td>3</td>\n",
       "      <td>15</td>\n",
       "      <td>2</td>\n",
       "      <td>748</td>\n",
       "    </tr>\n",
       "    <tr>\n",
       "      <th>15</th>\n",
       "      <td>113</td>\n",
       "      <td>4</td>\n",
       "      <td>16</td>\n",
       "      <td>8</td>\n",
       "      <td>1595</td>\n",
       "    </tr>\n",
       "    <tr>\n",
       "      <th>16</th>\n",
       "      <td>18</td>\n",
       "      <td>1</td>\n",
       "      <td>12</td>\n",
       "      <td>3</td>\n",
       "      <td>219</td>\n",
       "    </tr>\n",
       "    <tr>\n",
       "      <th>17</th>\n",
       "      <td>23</td>\n",
       "      <td>1</td>\n",
       "      <td>15</td>\n",
       "      <td>3</td>\n",
       "      <td>295</td>\n",
       "    </tr>\n",
       "    <tr>\n",
       "      <th>18</th>\n",
       "      <td>8</td>\n",
       "      <td>1</td>\n",
       "      <td>12</td>\n",
       "      <td>7</td>\n",
       "      <td>99</td>\n",
       "    </tr>\n",
       "    <tr>\n",
       "      <th>19</th>\n",
       "      <td>34</td>\n",
       "      <td>2</td>\n",
       "      <td>15</td>\n",
       "      <td>7</td>\n",
       "      <td>330</td>\n",
       "    </tr>\n",
       "    <tr>\n",
       "      <th>20</th>\n",
       "      <td>53</td>\n",
       "      <td>2</td>\n",
       "      <td>15</td>\n",
       "      <td>1</td>\n",
       "      <td>737</td>\n",
       "    </tr>\n",
       "    <tr>\n",
       "      <th>21</th>\n",
       "      <td>18</td>\n",
       "      <td>1</td>\n",
       "      <td>17</td>\n",
       "      <td>5</td>\n",
       "      <td>147</td>\n",
       "    </tr>\n",
       "    <tr>\n",
       "      <th>22</th>\n",
       "      <td>59</td>\n",
       "      <td>3</td>\n",
       "      <td>19</td>\n",
       "      <td>3</td>\n",
       "      <td>570</td>\n",
       "    </tr>\n",
       "    <tr>\n",
       "      <th>23</th>\n",
       "      <td>40</td>\n",
       "      <td>2</td>\n",
       "      <td>17</td>\n",
       "      <td>3</td>\n",
       "      <td>420</td>\n",
       "    </tr>\n",
       "    <tr>\n",
       "      <th>24</th>\n",
       "      <td>66</td>\n",
       "      <td>3</td>\n",
       "      <td>12</td>\n",
       "      <td>4</td>\n",
       "      <td>675</td>\n",
       "    </tr>\n",
       "    <tr>\n",
       "      <th>25</th>\n",
       "      <td>36</td>\n",
       "      <td>1</td>\n",
       "      <td>15</td>\n",
       "      <td>6</td>\n",
       "      <td>417</td>\n",
       "    </tr>\n",
       "    <tr>\n",
       "      <th>26</th>\n",
       "      <td>78</td>\n",
       "      <td>4</td>\n",
       "      <td>16</td>\n",
       "      <td>3</td>\n",
       "      <td>1090</td>\n",
       "    </tr>\n",
       "    <tr>\n",
       "      <th>27</th>\n",
       "      <td>80</td>\n",
       "      <td>4</td>\n",
       "      <td>15</td>\n",
       "      <td>10</td>\n",
       "      <td>935</td>\n",
       "    </tr>\n",
       "  </tbody>\n",
       "</table>\n",
       "</div>"
      ],
      "text/plain": [
       "    Surface (en m2)  Nbpieces  Arrondissement  Etage  Prix en (k$)\n",
       "0                67         3              17      5           770\n",
       "1                26         1              17      5           321\n",
       "2               118         3              12      3          1300\n",
       "3               163         5               6      4          2890\n",
       "4                87         4              19      5           678\n",
       "5                14         1              12      5           240\n",
       "6                45         2              15      1           460\n",
       "7                54         3              19      3           480\n",
       "8                75         4              16      4           965\n",
       "9                26         2              12      4           315\n",
       "10               38         2              12      7           430\n",
       "11               85         3              16      8          1038\n",
       "12               73         3              17      2           815\n",
       "13               66         3              15      1           730\n",
       "14               64         3              15      2           748\n",
       "15              113         4              16      8          1595\n",
       "16               18         1              12      3           219\n",
       "17               23         1              15      3           295\n",
       "18                8         1              12      7            99\n",
       "19               34         2              15      7           330\n",
       "20               53         2              15      1           737\n",
       "21               18         1              17      5           147\n",
       "22               59         3              19      3           570\n",
       "23               40         2              17      3           420\n",
       "24               66         3              12      4           675\n",
       "25               36         1              15      6           417\n",
       "26               78         4              16      3          1090\n",
       "27               80         4              15     10           935"
      ]
     },
     "metadata": {},
     "output_type": "display_data"
    }
   ],
   "source": [
    "#visualiser les données sous forme d'un tableau en utilisant la bibliotheque Pandas\n",
    "data={\"Surface (en m2)\":surface,\"Nbpieces\":Nbpieces,\"Arrondissement\":arrondissement,\"Etage\":etage,\"Prix en (k$)\":prix}\n",
    "data_pandas=pd.DataFrame(data)\n",
    "display(data_pandas)"
   ]
  },
  {
   "cell_type": "code",
   "execution_count": 10,
   "metadata": {
    "id": "Q5pOl-MPaBXa"
   },
   "outputs": [],
   "source": [
    "surface=np.array(surface)\n",
    "Nbpieces=np.array(Nbpieces)\n",
    "arrondissement=np.array(arrondissement)\n",
    "etage=np.array(etage)\n",
    "prix=np.array(prix)"
   ]
  },
  {
   "cell_type": "code",
   "execution_count": 11,
   "metadata": {
    "id": "bR9IdPnMb4fM"
   },
   "outputs": [],
   "source": [
    "def fonctCaract(Arrond,etage,NbPieces):\n",
    "    \"\"\"cette fonction permet de déterminer les caracteristiques de chaque app selon la note,l'étage et le nombre de pieces \"\"\"\n",
    "    noteArrond=NoteArrondissement[Arrond]\n",
    "    caracteristique=noteArrond/100+(8-etage)/8+NbPieces/6\n",
    "    return caracteristique"
   ]
  },
  {
   "cell_type": "code",
   "execution_count": 12,
   "metadata": {
    "colab": {
     "base_uri": "https://localhost:8080/"
    },
    "id": "w9aBKX8nel2Z",
    "outputId": "0de62843-3b78-4553-90af-0726ac3e4ebb"
   },
   "outputs": [
    {
     "name": "stdout",
     "output_type": "stream",
     "text": [
      "[11.49253731 12.34615385 11.01694915 17.73006135  7.79310345 17.14285714\n",
      " 10.22222222  8.88888889 12.86666667 12.11538462 11.31578947 12.21176471\n",
      " 11.16438356 11.06060606 11.6875     14.11504425 12.16666667 12.82608696\n",
      " 12.375       9.70588235 13.90566038  8.16666667  9.66101695 10.5\n",
      " 10.22727273 11.58333333 13.97435897 11.6875    ]\n",
      "//////////////////////////////////////////////////////////////////////////////////\n",
      "[1.528      1.19466667 1.858      2.09333333 1.63966667 1.27466667\n",
      " 1.79933333 1.723      1.92666667 1.56633333 1.19133333 1.26\n",
      " 1.903      1.966      1.841      1.42666667 1.52466667 1.38266667\n",
      " 1.02466667 1.04933333 1.79933333 1.19466667 1.723      1.61133333\n",
      " 1.733      1.00766667 2.05166667 1.00766667]\n"
     ]
    }
   ],
   "source": [
    "# définir le prix de metre carré et les caractéristiques de chaque appartement \n",
    "n=len(surface)\n",
    "noteArrond=np.zeros(surface.shape)\n",
    "caract=np.zeros(surface.shape)\n",
    "prixAuMetre2=np.zeros(surface.shape)\n",
    "\n",
    "for i in range(n):\n",
    "    Arrond=str(arrondissement[i])\n",
    "    caract[i]=fonctCaract(Arrond,etage[i],Nbpieces[i])\n",
    "    prixAuMetre2[i]=(prix[i]/surface[i])\n",
    "    \n",
    "print(prixAuMetre2)\n",
    "print('//////////////////////////////////////////////////////////////////////////////////')\n",
    "print(caract)"
   ]
  },
  {
   "cell_type": "code",
   "execution_count": 37,
   "metadata": {
    "colab": {
     "base_uri": "https://localhost:8080/",
     "height": 265
    },
    "id": "GqVmety_ixwJ",
    "outputId": "7f49d9e9-0f4a-408c-a274-3c8b1d5b1003"
   },
   "outputs": [
    {
     "data": {
      "image/png": "[encoded data removed]",
      "text/plain": [
       "<Figure size 432x288 with 1 Axes>"
      ]
     },
     "metadata": {
      "needs_background": "light"
     },
     "output_type": "display_data"
    }
   ],
   "source": [
    "# Afficher le nuage de points (les caracteristiques en fonction du prix du metre carré)\n",
    "xmin=1.\n",
    "xmax=2.\n",
    "\n",
    "xi=np.zeros(caract.shape)\n",
    "yi=np.zeros(caract.shape)\n",
    "\n",
    "xi=caract\n",
    "yi=prixAuMetre2\n",
    "plt.title('Les caracteristiques en fonction du prix du metre carré')\n",
    "figure=plt.scatter(xi,yi,s=n,alpha=1,cmap='viridis')\n"
   ]
  },
  {
   "cell_type": "code",
   "execution_count": 25,
   "metadata": {
    "colab": {
     "base_uri": "https://localhost:8080/",
     "height": 281
    },
    "id": "j6ekSObvlDaI",
    "outputId": "973329db-4d29-4a59-a51f-7eef568c1b2a"
   },
   "outputs": [
    {
     "data": {
      "image/png": "[encoded data removed]",
      "text/plain": [
       "<Figure size 432x288 with 1 Axes>"
      ]
     },
     "metadata": {
      "needs_background": "light"
     },
     "output_type": "display_data"
    }
   ],
   "source": [
    "x=np.linspace(xmin,xmax,200)\n",
    "\n",
    "m=25 #degre du polynome de lissage \n",
    "coef = coeffRegression(xi,yi,m)\n",
    "yp=[polyRegression(coef,t) for t in x]\n",
    "\n",
    "plt.plot(x,yp,'r',label='polylissage',linewidth=2)\n",
    "plt.scatter(xi,yi,s=n,alpha=0.9,cmap='viridis')\n",
    "plt.title('lissage polynomial avec degre m=%i' %m)\n",
    "plt.xlim(xmin,xmax)\n",
    "\n",
    "\n",
    "plt.show() # affiche la figure a l'ecran"
   ]
  },
  {
   "cell_type": "code",
   "execution_count": 29,
   "metadata": {
    "id": "XNmzPi9Uknv6"
   },
   "outputs": [],
   "source": [
    "def EstimationDuPrix(Arrond,Surf,eta,nmpiece,prixVente):\n",
    "    \"\"\"cette fonction permet d'estimer le prix de chaque appartement et calculer l'écart entre le prix estimé et le prix réel (l'erreur)\"\"\"\n",
    "    prixVenteM2=prixVente/Surf\n",
    "    c = fonctCaract(Arrond,eta,nmpiece)\n",
    "    pr_approM2 = polyRegression(coef,c)\n",
    "    prixVenteEstime = pr_approM2*surf*1000\n",
    "    prixVenteEstime = np.fix(prixVenteEstime)\n",
    "    print('le prix de l appartement est estimé à ', prixVenteEstime,'euro' )\n",
    "    erreur=np.fix(abs((prixVente*1000-prixVenteEstime))/(prixVente*10))\n",
    "    print(\"erreur = \",erreur,'%')"
   ]
  },
  {
   "cell_type": "code",
   "execution_count": 30,
   "metadata": {
    "colab": {
     "base_uri": "https://localhost:8080/"
    },
    "id": "amTBhUo1nBMP",
    "outputId": "f7657d87-158b-4b70-ffe7-b00498e2777d"
   },
   "outputs": [
    {
     "name": "stdout",
     "output_type": "stream",
     "text": [
      "---- Estimation du prix de : Appart 1  -----------\n",
      "\n",
      "le prix de l appartement est estimé à  206624.0 euro\n",
      "erreur =  14.0 %\n",
      "\n",
      " Prix de vente demandé = 242000.00\n",
      "\n",
      "-------------------------------------\n",
      "\n",
      "---- Estimation du prix de : Appart 2  -----------\n",
      "\n",
      "le prix de l appartement est estimé à  737101.0 euro\n",
      "erreur =  7.0 %\n",
      "\n",
      " Prix de vente demandé = 795000.00\n",
      "\n",
      "-------------------------------------\n",
      "\n",
      "---- Estimation du prix de : Appart 3  -----------\n",
      "\n",
      "le prix de l appartement est estimé à  276597.0 euro\n",
      "erreur =  22.0 %\n",
      "\n",
      " Prix de vente demandé = 355000.00\n",
      "\n",
      "-------------------------------------\n",
      "\n",
      "---- Estimation du prix de : Appart 4  -----------\n",
      "\n",
      "le prix de l appartement est estimé à  553263.0 euro\n",
      "erreur =  2.0 %\n",
      "\n",
      " Prix de vente demandé = 570000.00\n",
      "\n",
      "-------------------------------------\n",
      "\n",
      "---- Estimation du prix de : Appart 5  -----------\n",
      "\n",
      "le prix de l appartement est estimé à  394061.0 euro\n",
      "erreur =  9.0 %\n",
      "\n",
      " Prix de vente demandé = 435000.00\n",
      "\n",
      "-------------------------------------\n",
      "\n",
      "---- Estimation du prix de : Appart 6  -----------\n",
      "\n",
      "le prix de l appartement est estimé à  2495723.0 euro\n",
      "erreur =  4.0 %\n",
      "\n",
      " Prix de vente demandé = 2390000.00\n",
      "\n",
      "-------------------------------------\n",
      "\n",
      "---- Estimation du prix de : Appart 7  -----------\n",
      "\n",
      "le prix de l appartement est estimé à  524688.0 euro\n",
      "erreur =  28.0 %\n",
      "\n",
      " Prix de vente demandé = 735000.00\n",
      "\n",
      "-------------------------------------\n",
      "\n",
      "---- Estimation du prix de : Appart 8  -----------\n",
      "\n",
      "le prix de l appartement est estimé à  1309399.0 euro\n",
      "erreur =  23.0 %\n",
      "\n",
      " Prix de vente demandé = 1060000.00\n",
      "\n",
      "-------------------------------------\n",
      "\n"
     ]
    }
   ],
   "source": [
    "#test\n",
    "class appartement :\n",
    "    \n",
    "        \n",
    "    \"\"\" un appartement est caractérisé par :\n",
    "    -arrondissement : la qualité du quartier\n",
    "    -Sa superficie : surface \n",
    "    etage\n",
    "    nmre pieces\n",
    "    prix\n",
    "    \"\"\"\n",
    "    def __init__(self,A,S,E,NP,PV):\n",
    "        self.A=A\n",
    "        self.S=S\n",
    "        self.E=E\n",
    "        self.NP=NP\n",
    "        self.PV=PV\n",
    "    \n",
    "    def arrondissement(self):\n",
    "        return self.A\n",
    "    \n",
    "    def superficie(self):\n",
    "        return self.S\n",
    "    \n",
    "    def etage(self):\n",
    "        return self.E\n",
    "    \n",
    "    def nbrepiece(self):\n",
    "        return self.NP\n",
    "    \n",
    "    def prix(self):\n",
    "        return self.PV\n",
    "        \n",
    "#les données de test:      \n",
    "part1=appartement(\"17\",19,5,1,242)\n",
    "part2=appartement(\"19\",80,6,5,795)\n",
    "part3=appartement(\"6\",30,2,1,355)\n",
    "part4=appartement(\"12\",57,4,3,570)\n",
    "part5=appartement(\"12\",36,4,2,435)\n",
    "part6=appartement(\"12\",228,4,2,2390)\n",
    "part7=appartement(\"17\",56,4,3,735)\n",
    "part8=appartement(\"12\",92,8,4,1060)\n",
    "\n",
    "LesAppartements=[part1,part2,part3,part4,part5,part6,part7,part8]\n",
    "\n",
    "numappart = 1 \n",
    "for appart in LesAppartements:\n",
    "    arrond=appart.arrondissement()\n",
    "    surf=appart.superficie()\n",
    "    eta=appart.etage()\n",
    "    nmpiece=appart.nbrepiece()\n",
    "    prixVente=appart.prix()\n",
    "    \n",
    "    print('---- Estimation du prix de : Appart%2s  -----------\\n' %numappart)\n",
    "    EstimationDuPrix(arrond,surf,eta,nmpiece,prixVente)\n",
    "    PV = prixVente*1000\n",
    "    print('\\n Prix de vente demandé = %9.2f\\n' %PV)\n",
    "    print('-------------------------------------\\n')\n",
    "    numappart+=1"
   ]
  },
  {
   "cell_type": "code",
   "execution_count": null,
   "metadata": {},
   "outputs": [],
   "source": []
  },
  {
   "cell_type": "code",
   "execution_count": null,
   "metadata": {},
   "outputs": [],
   "source": []
  }
 ],
 "metadata": {
  "colab": {
   "authorship_tag": "ABX9TyNBg9+ORWs6P60ORlm4Hs2k",
   "collapsed_sections": [],
   "include_colab_link": true,
   "name": "Untitled2.ipynb",
   "provenance": []
  },
  "kernelspec": {
   "display_name": "Python 3",
   "language": "python",
   "name": "python3"
  },
  "language_info": {
   "codemirror_mode": {
    "name": "ipython",
    "version": 3
   },
   "file_extension": ".py",
   "mimetype": "text/x-python",
   "name": "python",
   "nbconvert_exporter": "python",
   "pygments_lexer": "ipython3",
   "version": "3.8.5"
  }
 },
 "nbformat": 4,
 "nbformat_minor": 1
}
